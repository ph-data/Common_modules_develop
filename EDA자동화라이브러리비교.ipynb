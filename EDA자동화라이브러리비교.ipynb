{
 "cells": [
  {
   "cell_type": "markdown",
   "metadata": {
    "id": "0gYh0xHCglwq"
   },
   "source": [
    "## EDA를 위한 유틸리티 패키지 조사 검토 및 지원 기능 구현 "
   ]
  },
  {
   "cell_type": "markdown",
   "metadata": {
    "id": "UoW79Uzxglwy"
   },
   "source": [
    "### 기본 패키지 불러오기"
   ]
  },
  {
   "cell_type": "code",
   "execution_count": 1,
   "metadata": {
    "ExecuteTime": {
     "end_time": "2022-03-21T04:44:16.993381Z",
     "start_time": "2022-03-21T04:44:16.261542Z"
    },
    "id": "8oDDUIsGglw0"
   },
   "outputs": [],
   "source": [
    "import pandas as pd\n",
    "import numpy as np\n",
    "import time"
   ]
  },
  {
   "cell_type": "markdown",
   "metadata": {
    "id": "yD2F5_10glw2"
   },
   "source": [
    "### 데이터 불러오기"
   ]
  },
  {
   "cell_type": "markdown",
   "metadata": {},
   "source": [
    "- 날씨 데이터\n",
    "- 천만건 1GB 데이터 활용 (10만건 데이터, 데이터 샘플 늘려서 활용)"
   ]
  },
  {
   "cell_type": "code",
   "execution_count": null,
   "metadata": {
    "ExecuteTime": {
     "end_time": "2022-03-18T06:26:07.625619Z",
     "start_time": "2022-03-18T06:26:07.600685Z"
    },
    "id": "KZyleDiyglw3"
   },
   "outputs": [],
   "source": [
    "### 타이타닉 데이터\n",
    "train=pd.read_csv(\"data/train.csv\")\n",
    "test=pd.read_csv(\"data/test.csv\")"
   ]
  },
  {
   "cell_type": "code",
   "execution_count": 2,
   "metadata": {
    "ExecuteTime": {
     "end_time": "2022-03-21T04:44:24.776388Z",
     "start_time": "2022-03-21T04:44:24.481463Z"
    },
    "id": "ffHSIqcDglw4"
   },
   "outputs": [],
   "source": [
    "### 날씨 데이터 불러오기\n",
    "dfw=pd.read_csv(\"data/weatherAUS.csv\")"
   ]
  },
  {
   "cell_type": "code",
   "execution_count": null,
   "metadata": {
    "ExecuteTime": {
     "end_time": "2022-03-18T07:16:24.447519Z",
     "start_time": "2022-03-18T07:16:22.524631Z"
    },
    "id": "8qW61Hrgglw5"
   },
   "outputs": [],
   "source": [
    "### 1000만 데이터 늘리기\n",
    "dfw1000=dfw.sample(frac=70, replace=True)"
   ]
  },
  {
   "cell_type": "code",
   "execution_count": null,
   "metadata": {
    "ExecuteTime": {
     "end_time": "2022-03-18T04:28:32.934777Z",
     "start_time": "2022-03-18T04:28:32.826280Z"
    },
    "collapsed": true,
    "id": "c2NapO3Pglw6"
   },
   "outputs": [],
   "source": [
    "dfw1000.to_csv(\"data/dfw1000.csv\", index=False)"
   ]
  },
  {
   "cell_type": "code",
   "execution_count": null,
   "metadata": {
    "ExecuteTime": {
     "end_time": "2022-03-16T02:07:04.061328Z",
     "start_time": "2022-03-16T02:07:04.040385Z"
    },
    "id": "EFxTH77kglw8"
   },
   "outputs": [],
   "source": [
    "dfw1000.shape"
   ]
  },
  {
   "cell_type": "code",
   "execution_count": null,
   "metadata": {
    "ExecuteTime": {
     "end_time": "2022-03-16T02:07:29.090506Z",
     "start_time": "2022-03-16T02:07:29.037674Z"
    },
    "id": "RknEt1-_glw9"
   },
   "outputs": [],
   "source": [
    "dfw1000.head()"
   ]
  },
  {
   "cell_type": "code",
   "execution_count": 3,
   "metadata": {
    "ExecuteTime": {
     "end_time": "2022-03-21T04:44:30.615387Z",
     "start_time": "2022-03-21T04:44:30.385016Z"
    },
    "id": "aX_8UTN7glw-"
   },
   "outputs": [
    {
     "data": {
      "text/plain": [
       "(1018220, 23)"
      ]
     },
     "execution_count": 3,
     "metadata": {},
     "output_type": "execute_result"
    }
   ],
   "source": [
    "### 100만 데이터 늘리기\n",
    "dfw100=dfw.sample(frac=7, replace=True)\n",
    "dfw100.shape"
   ]
  },
  {
   "cell_type": "code",
   "execution_count": null,
   "metadata": {
    "id": "OE2hFh29glw_"
   },
   "outputs": [],
   "source": [
    "train1000=train.sample(frac=10000, replace=True)\n",
    "test1000=test.sample(frac=10000, replace=True)"
   ]
  },
  {
   "cell_type": "markdown",
   "metadata": {
    "ExecuteTime": {
     "end_time": "2022-03-10T07:13:28.186840Z",
     "start_time": "2022-03-10T07:13:28.172825Z"
    },
    "id": "F_bWp8wJglxA"
   },
   "source": [
    "### pandas_profiling"
   ]
  },
  {
   "cell_type": "markdown",
   "metadata": {
    "id": "dtD4xcpMglxB"
   },
   "source": [
    "- 천만건의 경우 전체 기능 제공은 상당히 오래 걸림 44m 27s\n",
    "- 일부 차트(상관,상호작용 등)를 제외한 요약정보만을 제공하는 옵션이 있음 2m 58s\n",
    "- 백만건의 경우 전체 기능 제공 가능해 보임 4m 17s\n",
    "\n",
    "- https://pypi.org/project/pandas-profiling/\n",
    "- https://github.com/ydataai/pandas-profiling"
   ]
  },
  {
   "cell_type": "code",
   "execution_count": null,
   "metadata": {
    "ExecuteTime": {
     "end_time": "2022-03-18T01:00:31.138614Z",
     "start_time": "2022-03-18T01:00:30.479331Z"
    },
    "id": "e0odbMc7glxB"
   },
   "outputs": [],
   "source": [
    "### 패키지 불러오기\n",
    "import pandas_profiling"
   ]
  },
  {
   "cell_type": "code",
   "execution_count": null,
   "metadata": {
    "ExecuteTime": {
     "end_time": "2022-03-16T01:06:25.888517Z",
     "start_time": "2022-03-16T01:03:28.382417Z"
    },
    "id": "eqD6wy03glxC",
    "scrolled": true
   },
   "outputs": [],
   "source": [
    "### 요약 출력 2m 58s\n",
    "dfw1000.profile_report(minimal=True)"
   ]
  },
  {
   "cell_type": "code",
   "execution_count": null,
   "metadata": {
    "ExecuteTime": {
     "end_time": "2022-03-16T02:04:43.414098Z",
     "start_time": "2022-03-16T01:20:16.824436Z"
    },
    "id": "3ZJrpgd9glxD",
    "scrolled": true
   },
   "outputs": [],
   "source": [
    "### 일반 추출 44m 27s\n",
    "dfw1000.profile_report()"
   ]
  },
  {
   "cell_type": "code",
   "execution_count": null,
   "metadata": {
    "ExecuteTime": {
     "end_time": "2022-03-18T01:04:52.402670Z",
     "start_time": "2022-03-18T01:00:35.365368Z"
    },
    "id": "6e7TqrQgglxE",
    "scrolled": true
   },
   "outputs": [],
   "source": [
    "### 백만건 4m 17s\n",
    "dfw100.profile_report()"
   ]
  },
  {
   "cell_type": "markdown",
   "metadata": {
    "id": "QNoBy2haglxF"
   },
   "source": [
    "### Sweetviz"
   ]
  },
  {
   "cell_type": "markdown",
   "metadata": {
    "id": "zdR-ZhhvglxF"
   },
   "source": [
    "- 천만건 데이터의 경우 시간이 오래 걸림 21m 58s\n",
    "- 백만의 경우 활용가능성은 있음 2m 10s\n",
    "- 한글이 지원된다고 하나 그래프에서 한글이 일부 깨지는 현상이 있다고 함\n",
    "\n",
    "- https://pypi.org/project/sweetviz/\n",
    "- https://towardsdatascience.com/powerful-eda-exploratory-data-analysis-in-just-two-lines-of-code-using-sweetviz-6c943d32f34"
   ]
  },
  {
   "cell_type": "code",
   "execution_count": null,
   "metadata": {
    "ExecuteTime": {
     "end_time": "2022-03-18T02:16:23.652242Z",
     "start_time": "2022-03-18T02:16:23.587249Z"
    },
    "id": "HQFrkMQwglxF"
   },
   "outputs": [],
   "source": [
    "### 패키지 불러오기\n",
    "import sweetviz as sv"
   ]
  },
  {
   "cell_type": "code",
   "execution_count": null,
   "metadata": {
    "ExecuteTime": {
     "end_time": "2022-03-16T02:39:07.674320Z",
     "start_time": "2022-03-16T02:17:09.346903Z"
    },
    "id": "Ifp_EZZ_glxG"
   },
   "outputs": [],
   "source": [
    "### 1000만 21m 58s\n",
    "advert_report = sv.analyze(dfw1000)\n",
    "advert_report.show_html('./sweetviz_Advertising.html')"
   ]
  },
  {
   "cell_type": "code",
   "execution_count": null,
   "metadata": {
    "ExecuteTime": {
     "end_time": "2022-03-18T02:38:28.579621Z",
     "start_time": "2022-03-18T02:16:51.864369Z"
    },
    "id": "Fh3LJmnsglxH"
   },
   "outputs": [],
   "source": [
    "### 1000만 21m 58s\n",
    "advert_report = sv.analyze(dfw1000)\n",
    "advert_report.show_html('./sweetviz_Advertising.html')"
   ]
  },
  {
   "cell_type": "code",
   "execution_count": null,
   "metadata": {
    "ExecuteTime": {
     "end_time": "2022-03-18T04:00:29.179141Z",
     "start_time": "2022-03-18T03:58:19.338530Z"
    },
    "id": "vO6xdrBjglxI"
   },
   "outputs": [],
   "source": [
    "### 100만 2m 10s\n",
    "advert_report = sv.analyze(dfw100)\n",
    "advert_report.show_html('./sweetviz_Advertising.html')"
   ]
  },
  {
   "cell_type": "markdown",
   "metadata": {
    "id": "x7ZuC70XglxJ"
   },
   "source": [
    "### pywedge"
   ]
  },
  {
   "cell_type": "markdown",
   "metadata": {
    "id": "HVXbCkjrglxJ"
   },
   "source": [
    "- 차트의 경우 랜덤샐플링을 통한 일부 데이터만 보여줌\n",
    "- 모델 활용 상당히 오래 걸림 44m\n",
    "\n",
    "- https://pypi.org/project/pywedge/\n",
    "- https://analyticsindiamag.com/how-to-build-interactive-eda-in-2-lines-of-code-using-pywedge/"
   ]
  },
  {
   "cell_type": "code",
   "execution_count": null,
   "metadata": {
    "ExecuteTime": {
     "end_time": "2022-03-18T05:35:10.527732Z",
     "start_time": "2022-03-18T05:35:10.512770Z"
    },
    "id": "Eb8dXoBBglxK"
   },
   "outputs": [],
   "source": [
    "import pywedge as pw"
   ]
  },
  {
   "cell_type": "code",
   "execution_count": null,
   "metadata": {
    "ExecuteTime": {
     "end_time": "2022-03-16T05:22:01.862498Z",
     "start_time": "2022-03-16T05:22:01.842505Z"
    },
    "id": "ni54ZLpqglxK"
   },
   "outputs": [],
   "source": [
    "train.shape"
   ]
  },
  {
   "cell_type": "code",
   "execution_count": null,
   "metadata": {
    "ExecuteTime": {
     "end_time": "2022-03-16T07:05:16.370444Z",
     "start_time": "2022-03-16T07:05:15.758694Z"
    },
    "id": "bOb2CXRhglxL"
   },
   "outputs": [],
   "source": [
    "train1000=train.sample(frac=10000, replace=True)"
   ]
  },
  {
   "cell_type": "code",
   "execution_count": null,
   "metadata": {
    "ExecuteTime": {
     "end_time": "2022-03-16T07:05:17.483543Z",
     "start_time": "2022-03-16T07:05:17.173946Z"
    },
    "id": "d17KVvcyglxM"
   },
   "outputs": [],
   "source": [
    "test1000=test.sample(frac=10000, replace=True)"
   ]
  },
  {
   "cell_type": "code",
   "execution_count": null,
   "metadata": {
    "ExecuteTime": {
     "end_time": "2022-03-16T05:23:21.380597Z",
     "start_time": "2022-03-16T05:23:21.361614Z"
    },
    "id": "vFjvCDUZglxM"
   },
   "outputs": [],
   "source": [
    "test1000.shape"
   ]
  },
  {
   "cell_type": "code",
   "execution_count": null,
   "metadata": {
    "ExecuteTime": {
     "end_time": "2022-03-16T05:24:14.033379Z",
     "start_time": "2022-03-16T05:24:13.493508Z"
    },
    "id": "sl7Aag-rglxM"
   },
   "outputs": [],
   "source": [
    "### 1000만 시간 오래 걸림 \n",
    "c=['PassengerId']  ### 제거할 열\n",
    "y='Survived' ### target\n",
    "\n",
    "#베이스라인 모델 만들기\n",
    "blm = pw.baseline_model(train1000, test1000, c, y, type)\n",
    "blm.classification_summary()"
   ]
  },
  {
   "cell_type": "code",
   "execution_count": null,
   "metadata": {
    "ExecuteTime": {
     "end_time": "2022-03-16T05:54:16.490764Z",
     "start_time": "2022-03-16T05:54:15.338093Z"
    },
    "id": "gd8lyCvlglxN"
   },
   "outputs": [],
   "source": [
    "### 44m\n",
    "pph = pw.Pywedge_HP(train1000, test1000, c, y)\n",
    "pph.HP_Tune_Classification()"
   ]
  },
  {
   "cell_type": "code",
   "execution_count": null,
   "metadata": {
    "ExecuteTime": {
     "end_time": "2022-03-18T04:37:11.909353Z",
     "start_time": "2022-03-18T04:37:11.079511Z"
    },
    "id": "CwwoMEP1glxN"
   },
   "outputs": [],
   "source": [
    "dfw1000[\"RainToday\"].value_counts()"
   ]
  },
  {
   "cell_type": "code",
   "execution_count": null,
   "metadata": {
    "ExecuteTime": {
     "end_time": "2022-03-18T04:30:25.700345Z",
     "start_time": "2022-03-18T04:30:06.707032Z"
    },
    "id": "CsGyU4-tglxN",
    "scrolled": true
   },
   "outputs": [],
   "source": [
    "### 천만\n",
    "mc = pw.Pywedge_Charts(dfw1000, c=None, y=\"RainToday\")\n",
    "chart = mc.make_charts()"
   ]
  },
  {
   "cell_type": "code",
   "execution_count": null,
   "metadata": {
    "ExecuteTime": {
     "end_time": "2022-03-18T05:36:30.856663Z",
     "start_time": "2022-03-18T05:36:30.727325Z"
    },
    "id": "RLk4Air3glxO"
   },
   "outputs": [],
   "source": [
    "train100=train.sample(frac=1000, replace=True)\n",
    "test100=test.sample(frac=1000, replace=True)"
   ]
  },
  {
   "cell_type": "code",
   "execution_count": null,
   "metadata": {
    "ExecuteTime": {
     "end_time": "2022-03-18T05:36:45.536643Z",
     "start_time": "2022-03-18T05:36:45.358149Z"
    },
    "id": "pKbPbeW8glxP"
   },
   "outputs": [],
   "source": [
    "#100만 17m\n",
    "c=['PassengerId']  ### 제거할 열\n",
    "y='Survived' ### target\n",
    "\n",
    "blm = pw.baseline_model(train100, test100, c, y, type)\n",
    "blm.classification_summary()"
   ]
  },
  {
   "cell_type": "markdown",
   "metadata": {
    "id": "8p5eB2ekglxQ"
   },
   "source": [
    "### lux"
   ]
  },
  {
   "cell_type": "markdown",
   "metadata": {
    "id": "D6AotUTxglxR"
   },
   "source": [
    "- 사용 간편\n",
    "- 간단한 그래프 제공\n",
    "\n",
    "- https://pypi.org/project/lux-widget/\n",
    "- https://pub.towardsai.net/speed-up-eda-with-the-intelligent-lux-37f96542527b\n",
    "- https://ichi.pro/ko/python-eseo-luxleul-sayonghan-daehwa-hyeong-deiteo-sigaghwa-10221971328277"
   ]
  },
  {
   "cell_type": "code",
   "execution_count": null,
   "metadata": {
    "ExecuteTime": {
     "end_time": "2022-03-18T06:09:34.296887Z",
     "start_time": "2022-03-18T06:09:32.902818Z"
    },
    "id": "BXBHS9ulglxR"
   },
   "outputs": [],
   "source": [
    "#패키지 불러오기\n",
    "import lux"
   ]
  },
  {
   "cell_type": "code",
   "execution_count": null,
   "metadata": {
    "ExecuteTime": {
     "end_time": "2022-03-18T06:10:09.245904Z",
     "start_time": "2022-03-18T06:09:45.204340Z"
    },
    "id": "mq12dUWnglxS"
   },
   "outputs": [],
   "source": [
    "dfw21000=pd.read_csv(\"data/dfw1000.csv\")"
   ]
  },
  {
   "cell_type": "code",
   "execution_count": null,
   "metadata": {
    "ExecuteTime": {
     "end_time": "2022-03-18T06:22:19.940136Z",
     "start_time": "2022-03-18T06:21:28.591910Z"
    },
    "id": "vEs75eJvglxS"
   },
   "outputs": [],
   "source": [
    "## 4m\n",
    "dfw21000"
   ]
  },
  {
   "cell_type": "markdown",
   "metadata": {
    "id": "EdJmxBKuglxT"
   },
   "source": [
    "### AutoViz"
   ]
  },
  {
   "cell_type": "markdown",
   "metadata": {
    "id": "koguizSYglxT"
   },
   "source": [
    " - 천만건 데이터에서 오류\n",
    "\n",
    "- https://pypi.org/project/autoviz/\n",
    "- https://github.com/AutoViML/AutoViz"
   ]
  },
  {
   "cell_type": "code",
   "execution_count": null,
   "metadata": {
    "ExecuteTime": {
     "end_time": "2022-03-18T06:41:25.211682Z",
     "start_time": "2022-03-18T06:41:21.138196Z"
    },
    "id": "LijBSrGxglxU",
    "scrolled": true
   },
   "outputs": [],
   "source": [
    "#라이브러리 설치\n",
    "!pip install AutoViz"
   ]
  },
  {
   "cell_type": "code",
   "execution_count": null,
   "metadata": {
    "ExecuteTime": {
     "end_time": "2022-03-18T07:16:54.874380Z",
     "start_time": "2022-03-18T07:16:51.293150Z"
    },
    "id": "WMq79kIiglxU"
   },
   "outputs": [],
   "source": [
    "#패키지 불러오기\n",
    "import nltk\n",
    "#nltk.download('punkt')\n",
    "#nltk.download('wordnet')\n",
    "#nltk.download('omw-1.4')"
   ]
  },
  {
   "cell_type": "code",
   "execution_count": null,
   "metadata": {
    "ExecuteTime": {
     "end_time": "2022-03-18T06:27:04.323323Z",
     "start_time": "2022-03-18T06:27:04.204487Z"
    },
    "id": "3zIGdye_glxV"
   },
   "outputs": [],
   "source": [
    "train100=train.sample(frac=1000, replace=True)\n",
    "test100=test.sample(frac=1000, replace=True)"
   ]
  },
  {
   "cell_type": "code",
   "execution_count": null,
   "metadata": {
    "ExecuteTime": {
     "end_time": "2022-03-18T06:49:13.529180Z",
     "start_time": "2022-03-18T06:49:12.595666Z"
    },
    "id": "BWxEAJHuglxV"
   },
   "outputs": [],
   "source": [
    "train1000=train.sample(frac=10000, replace=True)\n",
    "test1000=test.sample(frac=10000, replace=True)"
   ]
  },
  {
   "cell_type": "code",
   "execution_count": null,
   "metadata": {
    "ExecuteTime": {
     "end_time": "2022-03-18T07:17:28.872058Z",
     "start_time": "2022-03-18T07:17:22.463775Z"
    },
    "id": "MhDdjQzKglxV"
   },
   "outputs": [],
   "source": [
    "#importing Autoviz class\n",
    "from autoviz.AutoViz_Class import AutoViz_Class\n",
    "\n",
    "#Instantiate the AutoViz class\n",
    "AV = AutoViz_Class()"
   ]
  },
  {
   "cell_type": "code",
   "execution_count": null,
   "metadata": {
    "ExecuteTime": {
     "end_time": "2022-03-16T07:57:14.588657Z",
     "start_time": "2022-03-16T07:57:14.567726Z"
    },
    "id": "Cy9VBEndglxW"
   },
   "outputs": [],
   "source": [
    "dfw1000.columns"
   ]
  },
  {
   "cell_type": "code",
   "execution_count": null,
   "metadata": {
    "ExecuteTime": {
     "end_time": "2022-03-18T06:32:02.653444Z",
     "start_time": "2022-03-18T06:32:02.635457Z"
    },
    "id": "LZ9h4FGxglxX"
   },
   "outputs": [],
   "source": [
    "datapath = ''\n",
    "filename = 'data/train.csv'\n",
    "sep = ','\n",
    "target = 'Surevived'"
   ]
  },
  {
   "cell_type": "code",
   "execution_count": null,
   "metadata": {
    "ExecuteTime": {
     "end_time": "2022-03-18T06:32:03.940458Z",
     "start_time": "2022-03-18T06:32:03.858667Z"
    },
    "id": "4JP1BLmvglxX"
   },
   "outputs": [],
   "source": [
    "dft = AV.AutoViz(datapath+filename, sep, target, \"\",\n",
    "           header=0, verbose=1,\n",
    "            lowess=False,chart_format='bokeh',max_rows_analyzed=None,max_cols_analyzed=30)"
   ]
  },
  {
   "cell_type": "code",
   "execution_count": null,
   "metadata": {
    "ExecuteTime": {
     "end_time": "2022-03-18T06:29:17.072646Z",
     "start_time": "2022-03-18T06:29:17.034748Z"
    },
    "id": "m2J40-3-glxY"
   },
   "outputs": [],
   "source": [
    "train100"
   ]
  },
  {
   "cell_type": "code",
   "execution_count": null,
   "metadata": {
    "ExecuteTime": {
     "end_time": "2022-03-18T06:42:06.146906Z",
     "start_time": "2022-03-18T06:42:01.354447Z"
    },
    "id": "8xZdwHXsglxZ"
   },
   "outputs": [],
   "source": [
    "dft = AV.AutoViz(\"\", depVar=\"Surevived\", dfte=train100,\n",
    "           header=0, verbose=1,\n",
    "            lowess=False,chart_format='bokeh',max_rows_analyzed=10000000,max_cols_analyzed=30)"
   ]
  },
  {
   "cell_type": "code",
   "execution_count": null,
   "metadata": {
    "ExecuteTime": {
     "end_time": "2022-03-16T08:25:33.262687Z",
     "start_time": "2022-03-16T08:24:05.736870Z"
    },
    "id": "flX-u2i4glxa"
   },
   "outputs": [],
   "source": [
    "dft = AV.AutoViz(filename=\"\",dfte=dfw1000,chart_format='bokeh',max_rows_analyzed=None,max_cols_analyzed=30)"
   ]
  },
  {
   "cell_type": "code",
   "execution_count": null,
   "metadata": {
    "ExecuteTime": {
     "end_time": "2022-03-16T08:26:10.318389Z",
     "start_time": "2022-03-16T08:26:09.529815Z"
    },
    "id": "PhD_Wgmvglxa"
   },
   "outputs": [],
   "source": [
    "df2w1000=dfw1000.drop(columns=['Date'])"
   ]
  },
  {
   "cell_type": "code",
   "execution_count": null,
   "metadata": {
    "ExecuteTime": {
     "end_time": "2022-03-16T08:28:35.988305Z",
     "start_time": "2022-03-16T08:27:20.004858Z"
    },
    "id": "4_yACW7Bglxb"
   },
   "outputs": [],
   "source": [
    "dft = AV.AutoViz(filename=\"\",dfte=df2w1000,chart_format='bokeh',max_rows_analyzed=None,max_cols_analyzed=30)"
   ]
  },
  {
   "cell_type": "code",
   "execution_count": null,
   "metadata": {
    "ExecuteTime": {
     "end_time": "2022-03-18T07:17:48.861653Z",
     "start_time": "2022-03-18T07:17:48.854673Z"
    },
    "id": "ox1F1qpGglxb"
   },
   "outputs": [],
   "source": [
    "datapath = ''\n",
    "filename = 'data/train1000.csv'\n",
    "sep = ','\n",
    "target = 'Survived'"
   ]
  },
  {
   "cell_type": "code",
   "execution_count": null,
   "metadata": {
    "ExecuteTime": {
     "end_time": "2022-03-18T07:00:53.924267Z",
     "start_time": "2022-03-18T06:49:40.771138Z"
    },
    "id": "tEsvhAgNglxc",
    "scrolled": false
   },
   "outputs": [],
   "source": [
    "### 11분 13초\n",
    "dft = AV.AutoViz(\"\", sep, target, train1000,\n",
    "           header=0, verbose=1,\n",
    "            lowess=False,chart_format='bokeh',max_rows_analyzed=12000000,max_cols_analyzed=30)"
   ]
  },
  {
   "cell_type": "code",
   "execution_count": null,
   "metadata": {
    "ExecuteTime": {
     "start_time": "2022-03-18T07:17:59.578Z"
    },
    "id": "r4yf052Iglxc"
   },
   "outputs": [],
   "source": [
    "target='RainToday'\n",
    "### 커널종료\n",
    "dft = AV.AutoViz(\"\", sep, target, dfw1000,\n",
    "           header=0, verbose=1,\n",
    "            lowess=False,chart_format='bokeh',max_rows_analyzed=12000000,max_cols_analyzed=30)"
   ]
  },
  {
   "cell_type": "markdown",
   "metadata": {
    "id": "-mR5us7sglxd"
   },
   "source": [
    "### D-Tale"
   ]
  },
  {
   "cell_type": "markdown",
   "metadata": {
    "id": "hLjDqwWEglxd"
   },
   "source": [
    "- 1천만건 대용량 데이터의 경우 차트 생성, 전처리 적용 등 시간이 오래 걸려 사용이 불가해 보임\n",
    "\n",
    "- https://pypi.org/project/dtale/\n",
    "- https://www.analyticsvidhya.com/blog/2021/06/exploring-pandas-dataframe-with-d-tale/"
   ]
  },
  {
   "cell_type": "code",
   "execution_count": 4,
   "metadata": {
    "ExecuteTime": {
     "end_time": "2022-03-21T04:44:40.680132Z",
     "start_time": "2022-03-21T04:44:36.564929Z"
    },
    "id": "Jisu0E2Dglxe"
   },
   "outputs": [],
   "source": [
    "### 패키지 불러오기\n",
    "import dtale"
   ]
  },
  {
   "cell_type": "code",
   "execution_count": 14,
   "metadata": {
    "ExecuteTime": {
     "end_time": "2022-03-21T04:39:41.831199Z",
     "start_time": "2022-03-21T04:39:41.813247Z"
    },
    "id": "mIY9-vv0glxe"
   },
   "outputs": [],
   "source": [
    "import dtale.global_state as global_state\n",
    "\n",
    "global_state.set_chart_settings({'scatter_points': 12000000, '3d_points': 40000})"
   ]
  },
  {
   "cell_type": "code",
   "execution_count": null,
   "metadata": {
    "ExecuteTime": {
     "end_time": "2022-03-18T00:32:24.165527Z",
     "start_time": "2022-03-18T00:32:23.360388Z"
    },
    "id": "ZYGQ6Yccglxf"
   },
   "outputs": [],
   "source": [
    "dfw1000.columns"
   ]
  },
  {
   "cell_type": "code",
   "execution_count": null,
   "metadata": {
    "ExecuteTime": {
     "end_time": "2022-03-18T00:29:51.944525Z",
     "start_time": "2022-03-18T00:28:57.446037Z"
    },
    "id": "tG7vi4Nuglxg"
   },
   "outputs": [],
   "source": [
    "#데이터확인 #\n",
    "dtale.show(dfw1000)"
   ]
  },
  {
   "cell_type": "code",
   "execution_count": 16,
   "metadata": {
    "ExecuteTime": {
     "end_time": "2022-03-21T04:40:09.536137Z",
     "start_time": "2022-03-21T04:40:09.483279Z"
    }
   },
   "outputs": [
    {
     "data": {
      "text/html": [
       "<div>\n",
       "<style scoped>\n",
       "    .dataframe tbody tr th:only-of-type {\n",
       "        vertical-align: middle;\n",
       "    }\n",
       "\n",
       "    .dataframe tbody tr th {\n",
       "        vertical-align: top;\n",
       "    }\n",
       "\n",
       "    .dataframe thead th {\n",
       "        text-align: right;\n",
       "    }\n",
       "</style>\n",
       "<table border=\"1\" class=\"dataframe\">\n",
       "  <thead>\n",
       "    <tr style=\"text-align: right;\">\n",
       "      <th></th>\n",
       "      <th>Date</th>\n",
       "      <th>Location</th>\n",
       "      <th>MinTemp</th>\n",
       "      <th>MaxTemp</th>\n",
       "      <th>Rainfall</th>\n",
       "      <th>Evaporation</th>\n",
       "      <th>Sunshine</th>\n",
       "      <th>WindGustDir</th>\n",
       "      <th>WindGustSpeed</th>\n",
       "      <th>WindDir9am</th>\n",
       "      <th>...</th>\n",
       "      <th>Humidity9am</th>\n",
       "      <th>Humidity3pm</th>\n",
       "      <th>Pressure9am</th>\n",
       "      <th>Pressure3pm</th>\n",
       "      <th>Cloud9am</th>\n",
       "      <th>Cloud3pm</th>\n",
       "      <th>Temp9am</th>\n",
       "      <th>Temp3pm</th>\n",
       "      <th>RainToday</th>\n",
       "      <th>RainTomorrow</th>\n",
       "    </tr>\n",
       "  </thead>\n",
       "  <tbody>\n",
       "    <tr>\n",
       "      <th>0</th>\n",
       "      <td>2008-12-01</td>\n",
       "      <td>Albury</td>\n",
       "      <td>13.4</td>\n",
       "      <td>22.9</td>\n",
       "      <td>0.6</td>\n",
       "      <td>NaN</td>\n",
       "      <td>NaN</td>\n",
       "      <td>W</td>\n",
       "      <td>44.0</td>\n",
       "      <td>W</td>\n",
       "      <td>...</td>\n",
       "      <td>71.0</td>\n",
       "      <td>22.0</td>\n",
       "      <td>1007.7</td>\n",
       "      <td>1007.1</td>\n",
       "      <td>8.0</td>\n",
       "      <td>NaN</td>\n",
       "      <td>16.9</td>\n",
       "      <td>21.8</td>\n",
       "      <td>No</td>\n",
       "      <td>No</td>\n",
       "    </tr>\n",
       "    <tr>\n",
       "      <th>1</th>\n",
       "      <td>2008-12-02</td>\n",
       "      <td>Albury</td>\n",
       "      <td>7.4</td>\n",
       "      <td>25.1</td>\n",
       "      <td>0.0</td>\n",
       "      <td>NaN</td>\n",
       "      <td>NaN</td>\n",
       "      <td>WNW</td>\n",
       "      <td>44.0</td>\n",
       "      <td>NNW</td>\n",
       "      <td>...</td>\n",
       "      <td>44.0</td>\n",
       "      <td>25.0</td>\n",
       "      <td>1010.6</td>\n",
       "      <td>1007.8</td>\n",
       "      <td>NaN</td>\n",
       "      <td>NaN</td>\n",
       "      <td>17.2</td>\n",
       "      <td>24.3</td>\n",
       "      <td>No</td>\n",
       "      <td>No</td>\n",
       "    </tr>\n",
       "    <tr>\n",
       "      <th>2</th>\n",
       "      <td>2008-12-03</td>\n",
       "      <td>Albury</td>\n",
       "      <td>12.9</td>\n",
       "      <td>25.7</td>\n",
       "      <td>0.0</td>\n",
       "      <td>NaN</td>\n",
       "      <td>NaN</td>\n",
       "      <td>WSW</td>\n",
       "      <td>46.0</td>\n",
       "      <td>W</td>\n",
       "      <td>...</td>\n",
       "      <td>38.0</td>\n",
       "      <td>30.0</td>\n",
       "      <td>1007.6</td>\n",
       "      <td>1008.7</td>\n",
       "      <td>NaN</td>\n",
       "      <td>2.0</td>\n",
       "      <td>21.0</td>\n",
       "      <td>23.2</td>\n",
       "      <td>No</td>\n",
       "      <td>No</td>\n",
       "    </tr>\n",
       "    <tr>\n",
       "      <th>3</th>\n",
       "      <td>2008-12-04</td>\n",
       "      <td>Albury</td>\n",
       "      <td>9.2</td>\n",
       "      <td>28.0</td>\n",
       "      <td>0.0</td>\n",
       "      <td>NaN</td>\n",
       "      <td>NaN</td>\n",
       "      <td>NE</td>\n",
       "      <td>24.0</td>\n",
       "      <td>SE</td>\n",
       "      <td>...</td>\n",
       "      <td>45.0</td>\n",
       "      <td>16.0</td>\n",
       "      <td>1017.6</td>\n",
       "      <td>1012.8</td>\n",
       "      <td>NaN</td>\n",
       "      <td>NaN</td>\n",
       "      <td>18.1</td>\n",
       "      <td>26.5</td>\n",
       "      <td>No</td>\n",
       "      <td>No</td>\n",
       "    </tr>\n",
       "    <tr>\n",
       "      <th>4</th>\n",
       "      <td>2008-12-05</td>\n",
       "      <td>Albury</td>\n",
       "      <td>17.5</td>\n",
       "      <td>32.3</td>\n",
       "      <td>1.0</td>\n",
       "      <td>NaN</td>\n",
       "      <td>NaN</td>\n",
       "      <td>W</td>\n",
       "      <td>41.0</td>\n",
       "      <td>ENE</td>\n",
       "      <td>...</td>\n",
       "      <td>82.0</td>\n",
       "      <td>33.0</td>\n",
       "      <td>1010.8</td>\n",
       "      <td>1006.0</td>\n",
       "      <td>7.0</td>\n",
       "      <td>8.0</td>\n",
       "      <td>17.8</td>\n",
       "      <td>29.7</td>\n",
       "      <td>No</td>\n",
       "      <td>No</td>\n",
       "    </tr>\n",
       "  </tbody>\n",
       "</table>\n",
       "<p>5 rows × 23 columns</p>\n",
       "</div>"
      ],
      "text/plain": [
       "         Date Location  MinTemp  MaxTemp  Rainfall  Evaporation  Sunshine  \\\n",
       "0  2008-12-01   Albury     13.4     22.9       0.6          NaN       NaN   \n",
       "1  2008-12-02   Albury      7.4     25.1       0.0          NaN       NaN   \n",
       "2  2008-12-03   Albury     12.9     25.7       0.0          NaN       NaN   \n",
       "3  2008-12-04   Albury      9.2     28.0       0.0          NaN       NaN   \n",
       "4  2008-12-05   Albury     17.5     32.3       1.0          NaN       NaN   \n",
       "\n",
       "  WindGustDir  WindGustSpeed WindDir9am  ... Humidity9am  Humidity3pm  \\\n",
       "0           W           44.0          W  ...        71.0         22.0   \n",
       "1         WNW           44.0        NNW  ...        44.0         25.0   \n",
       "2         WSW           46.0          W  ...        38.0         30.0   \n",
       "3          NE           24.0         SE  ...        45.0         16.0   \n",
       "4           W           41.0        ENE  ...        82.0         33.0   \n",
       "\n",
       "   Pressure9am  Pressure3pm  Cloud9am  Cloud3pm  Temp9am  Temp3pm  RainToday  \\\n",
       "0       1007.7       1007.1       8.0       NaN     16.9     21.8         No   \n",
       "1       1010.6       1007.8       NaN       NaN     17.2     24.3         No   \n",
       "2       1007.6       1008.7       NaN       2.0     21.0     23.2         No   \n",
       "3       1017.6       1012.8       NaN       NaN     18.1     26.5         No   \n",
       "4       1010.8       1006.0       7.0       8.0     17.8     29.7         No   \n",
       "\n",
       "   RainTomorrow  \n",
       "0            No  \n",
       "1            No  \n",
       "2            No  \n",
       "3            No  \n",
       "4            No  \n",
       "\n",
       "[5 rows x 23 columns]"
      ]
     },
     "execution_count": 16,
     "metadata": {},
     "output_type": "execute_result"
    }
   ],
   "source": [
    "dfw.head()"
   ]
  },
  {
   "cell_type": "code",
   "execution_count": null,
   "metadata": {},
   "outputs": [],
   "source": []
  }
 ],
 "metadata": {
  "colab": {
   "name": "EDA유틸비교.ipynb의 사본",
   "provenance": []
  },
  "kernelspec": {
   "display_name": "Python 3",
   "language": "python",
   "name": "python3"
  },
  "language_info": {
   "codemirror_mode": {
    "name": "ipython",
    "version": 3
   },
   "file_extension": ".py",
   "mimetype": "text/x-python",
   "name": "python",
   "nbconvert_exporter": "python",
   "pygments_lexer": "ipython3",
   "version": "3.7.3"
  },
  "toc": {
   "base_numbering": 1,
   "nav_menu": {},
   "number_sections": true,
   "sideBar": true,
   "skip_h1_title": false,
   "title_cell": "Table of Contents",
   "title_sidebar": "Contents",
   "toc_cell": false,
   "toc_position": {
    "height": "calc(100% - 180px)",
    "left": "10px",
    "top": "150px",
    "width": "212px"
   },
   "toc_section_display": true,
   "toc_window_display": true
  },
  "varInspector": {
   "cols": {
    "lenName": 16,
    "lenType": 16,
    "lenVar": 40
   },
   "kernels_config": {
    "python": {
     "delete_cmd_postfix": "",
     "delete_cmd_prefix": "del ",
     "library": "var_list.py",
     "varRefreshCmd": "print(var_dic_list())"
    },
    "r": {
     "delete_cmd_postfix": ") ",
     "delete_cmd_prefix": "rm(",
     "library": "var_list.r",
     "varRefreshCmd": "cat(var_dic_list()) "
    }
   },
   "types_to_exclude": [
    "module",
    "function",
    "builtin_function_or_method",
    "instance",
    "_Feature"
   ],
   "window_display": false
  }
 },
 "nbformat": 4,
 "nbformat_minor": 1
}
